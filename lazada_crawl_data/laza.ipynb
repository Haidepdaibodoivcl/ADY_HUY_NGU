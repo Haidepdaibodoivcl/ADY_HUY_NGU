{
 "cells": [
  {
   "cell_type": "code",
   "execution_count": 8,
   "id": "872f5acc",
   "metadata": {},
   "outputs": [
    {
     "name": "stdout",
     "output_type": "stream",
     "text": [
      "Đã lưu dữ liệu vào lazada_top5sao.xlsx\n"
     ]
    }
   ],
   "source": [
    "from selenium import webdriver\n",
    "from selenium.webdriver.common.by import By\n",
    "import time\n",
    "import pandas as pd\n",
    "\n",
    "# 1. Mở Chrome\n",
    "driver = webdriver.Chrome()\n",
    "\n",
    "# 2. URL top sản phẩm 5 sao\n",
    "url = \"https://www.lazada.vn/catalog/?q=%C4%91i%E1%BB%87n%20tho%E1%BA%A1i&style=wf&rating=5\"\n",
    "driver.get(url)\n",
    "time.sleep(5)  # đợi trang load\n",
    "\n",
    "# 3. Lấy 10 sản phẩm đầu tiên\n",
    "products = driver.find_elements(By.CSS_SELECTOR, \".Bm3ON\")[:10]\n",
    "\n",
    "data_list = []\n",
    "\n",
    "for product in products:\n",
    "    # Tên sản phẩm\n",
    "    try:\n",
    "        name = product.find_element(By.CSS_SELECTOR, \"div.RfADt > a\").text\n",
    "    except:\n",
    "        name = \"N/A\"\n",
    "    # Giá\n",
    "    try:\n",
    "        price = product.find_element(By.CSS_SELECTOR, \".ooOxS\").text\n",
    "    except:\n",
    "        price = \"N/A\"\n",
    "    # Lượt đánh giá\n",
    "    try:\n",
    "        reviews = product.find_element(By.CSS_SELECTOR, \".qzqFw\").text\n",
    "    except:\n",
    "        reviews = \"N/A\"\n",
    "\n",
    "    data_list.append({\n",
    "        \"Tên sản phẩm\": name,\n",
    "        \"Giá\": price,\n",
    "        \"Lượt đánh giá\": reviews\n",
    "    })\n",
    "\n",
    "driver.quit()\n",
    "\n",
    "# 4. Lưu vào file Excel\n",
    "df = pd.DataFrame(data_list)\n",
    "df.index += 1\n",
    "df.to_excel(\"lazada_top5sao.xlsx\", index_label=\"STT\")\n",
    "print(\"Đã lưu dữ liệu vào lazada_top5sao.xlsx\")\n"
   ]
  },
  {
   "cell_type": "code",
   "execution_count": null,
   "id": "c14c8a5d",
   "metadata": {},
   "outputs": [],
   "source": []
  }
 ],
 "metadata": {
  "kernelspec": {
   "display_name": "Python 3",
   "language": "python",
   "name": "python3"
  },
  "language_info": {
   "codemirror_mode": {
    "name": "ipython",
    "version": 3
   },
   "file_extension": ".py",
   "mimetype": "text/x-python",
   "name": "python",
   "nbconvert_exporter": "python",
   "pygments_lexer": "ipython3",
   "version": "3.10.7"
  }
 },
 "nbformat": 4,
 "nbformat_minor": 5
}
